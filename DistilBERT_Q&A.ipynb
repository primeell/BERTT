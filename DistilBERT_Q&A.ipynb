{
  "nbformat": 4,
  "nbformat_minor": 0,
  "metadata": {
    "colab": {
      "provenance": []
    },
    "kernelspec": {
      "name": "python3",
      "display_name": "Python 3"
    },
    "language_info": {
      "name": "python"
    }
  },
  "cells": [
    {
      "cell_type": "code",
      "source": [
        "!pip install transformers"
      ],
      "metadata": {
        "id": "cJ0sXBSfy_m2"
      },
      "execution_count": null,
      "outputs": []
    },
    {
      "cell_type": "code",
      "execution_count": null,
      "metadata": {
        "id": "kGtBgV5nyo0-"
      },
      "outputs": [],
      "source": [
        "from transformers import pipeline\n",
        "question_answerer = pipeline(\"question-answering\", model='distilbert-base-cased-distilled-squad')\n",
        "\n",
        "context = r\"\"\"\n",
        "An application structure typically encompasses the foundational components and their relationships within a software application. It outlines the architectural design and organization of different parts that work together to create a functional software system. Here are some fundamental components often included in an application structure:\n",
        "Frontend: The user-facing part of the application, usually involving the interface, user experience, and presentation layer. It could include technologies like HTML, CSS, JavaScript frameworks (React, Angular, Vue.js), and UI libraries.\n",
        "Backend: The server-side or behind-the-scenes part of the application that handles data processing, logic, and communication with the database. Backend technologies might involve server frameworks like Node.js, Django, Flask, Ruby on Rails, or others.\n",
        "Database: Stores and manages the application's data. It could be a relational database (MySQL, PostgreSQL), a NoSQL database (MongoDB, Cassandra), or other specialized storage systems.\n",
        "Authentication/Authorization: Mechanisms ensuring secure access control and user identity verification within the application. Common methods include JWT (JSON Web Tokens), OAuth, or traditional username/password authentication.\n",
        "Deployment: Tools and services utilized to deploy the application to a production environment, making it accessible to users. This may involve cloud services (AWS, Azure, Google Cloud), containerization (Docker), or specific hosting platforms (Heroku, Netlify).\n",
        "Testing/Quality Assurance: Strategies, frameworks, and processes employed to ensure the application's reliability, performance, and functionality. This might include unit testing, integration testing, and automated testing frameworks.\n",
        "Middleware/Services: Additional components or services used within the application to facilitate specific functionalities, such as caching mechanisms, messaging services, or third-party APIs.\n",
        "Version Control/Code Repository: Tools like Git and platforms like GitHub or GitLab used to manage and collaborate on code, enabling version control and team collaboration.\n",
        "An application structure's specifics can vary based on the application's complexity, purpose, technology stack, and the development team's preferences. Defining a clear and well-organized structure is essential for scalability, maintainability, and efficient development of software applications.\n",
        "\"\"\"\n",
        "\n",
        "result = question_answerer(question=\"What is a good example of a question answering dataset?\",     context=context)\n",
        "print(f\"Answer: '{result['answer']}', score: {round(result['score'], 4)}, start: {result['start']}, end: {result['end']}\")"
      ]
    },
    {
      "cell_type": "code",
      "source": [
        "from transformers import DistilBertTokenizer, TFDistilBertForQuestionAnswering\n",
        "import tensorflow as tf\n",
        "\n",
        "tokenizer = DistilBertTokenizer.from_pretrained(\"distilbert-base-cased-distilled-squad\")\n",
        "model = TFDistilBertForQuestionAnswering.from_pretrained(\"distilbert-base-cased-distilled-squad\")\n",
        "\n",
        "question, text = \"Who was Jim Henson?\", \"Jim Henson was a nice puppet\"\n",
        "\n",
        "inputs = tokenizer(question, text, return_tensors=\"tf\")\n",
        "outputs = model(**inputs)\n",
        "\n",
        "answer_start_index = int(tf.math.argmax(outputs.start_logits, axis=-1)[0])\n",
        "answer_end_index = int(tf.math.argmax(outputs.end_logits, axis=-1)[0])\n",
        "\n",
        "predict_answer_tokens = inputs.input_ids[0, answer_start_index : answer_end_index + 1]\n",
        "tokenizer.decode(predict_answer_tokens)\n"
      ],
      "metadata": {
        "id": "eEVkkZew04e8"
      },
      "execution_count": null,
      "outputs": []
    }
  ]
}